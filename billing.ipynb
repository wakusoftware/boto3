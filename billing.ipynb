{
 "cells": [
  {
   "cell_type": "markdown",
   "metadata": {},
   "source": [
    "# Billing refresher"
   ]
  },
  {
   "cell_type": "code",
   "execution_count": 1,
   "metadata": {},
   "outputs": [],
   "source": [
    "import boto3"
   ]
  },
  {
   "cell_type": "code",
   "execution_count": 2,
   "metadata": {},
   "outputs": [],
   "source": [
    "client = boto3.client('ce')"
   ]
  },
  {
   "cell_type": "code",
   "execution_count": 3,
   "metadata": {},
   "outputs": [
    {
     "data": {
      "text/plain": [
       "'2023-06-29'"
      ]
     },
     "execution_count": 3,
     "metadata": {},
     "output_type": "execute_result"
    }
   ],
   "source": [
    "#START\n",
    "from datetime import datetime, timedelta\n",
    "start_date = (datetime.now() - timedelta(days=90)).strftime('%Y-%m-%d')\n",
    "start_date"
   ]
  },
  {
   "cell_type": "code",
   "execution_count": 4,
   "metadata": {},
   "outputs": [],
   "source": [
    "#CE start-date --> end-date\n",
    "end_date = datetime.now().strftime('%Y-%m-%d')"
   ]
  },
  {
   "cell_type": "code",
   "execution_count": 5,
   "metadata": {},
   "outputs": [],
   "source": [
    "response = client.get_cost_and_usage(\n",
    "    TimePeriod={\n",
    "        'Start': start_date,\n",
    "        'End': end_date\n",
    "    },\n",
    "    Granularity='MONTHLY',\n",
    "    Metrics=[\n",
    "        'UnblendedCost',\n",
    "        'UsageQuantity'\n",
    "    ]\n",
    ")"
   ]
  },
  {
   "cell_type": "code",
   "execution_count": 7,
   "metadata": {},
   "outputs": [
    {
     "name": "stdout",
     "output_type": "stream",
     "text": [
      "{'Start': '2023-06-29', 'End': '2023-07-01'} {'UnblendedCost': {'Amount': '-0.000000022', 'Unit': 'USD'}, 'UsageQuantity': {'Amount': '1416578.9888275282', 'Unit': 'N/A'}}\n",
      "{'Start': '2023-07-01', 'End': '2023-08-01'} {'UnblendedCost': {'Amount': '-0.0000279539', 'Unit': 'USD'}, 'UsageQuantity': {'Amount': '20420817.79095978', 'Unit': 'N/A'}}\n",
      "{'Start': '2023-08-01', 'End': '2023-09-01'} {'UnblendedCost': {'Amount': '-0.0000273262', 'Unit': 'USD'}, 'UsageQuantity': {'Amount': '26098260.284344066', 'Unit': 'N/A'}}\n",
      "{'Start': '2023-09-01', 'End': '2023-09-27'} {'UnblendedCost': {'Amount': '0.0000013753', 'Unit': 'USD'}, 'UsageQuantity': {'Amount': '22296616.973965358', 'Unit': 'N/A'}}\n"
     ]
    }
   ],
   "source": [
    "for item in response['ResultsByTime']:\n",
    "    print(item['TimePeriod'], item['Total'])"
   ]
  },
  {
   "cell_type": "code",
   "execution_count": 8,
   "metadata": {},
   "outputs": [],
   "source": [
    "#Dimensions\n",
    "response = client.get_dimension_values(\n",
    "    TimePeriod={\n",
    "        'Start': start_date,\n",
    "        'End': end_date\n",
    "    },\n",
    "    Dimension='SERVICE',\n",
    "    Context='COST_AND_USAGE',\n",
    "    SearchString='Amazon'\n",
    ")"
   ]
  },
  {
   "cell_type": "code",
   "execution_count": 10,
   "metadata": {},
   "outputs": [
    {
     "name": "stdout",
     "output_type": "stream",
     "text": [
      "Amazon API Gateway {}\n",
      "Amazon Cognito {}\n",
      "Amazon DynamoDB {}\n",
      "Amazon EC2 Container Registry (ECR) {}\n",
      "EC2 - Other {}\n",
      "Amazon Elastic Compute Cloud - Compute {}\n",
      "Amazon Elastic Container Service {}\n",
      "Amazon Elastic File System {}\n",
      "Amazon Elastic Load Balancing {}\n",
      "Amazon Lightsail {}\n",
      "Amazon Relational Database Service {}\n",
      "Amazon Route 53 {}\n",
      "Amazon SageMaker {}\n",
      "Amazon Simple Email Service {}\n",
      "Amazon Simple Notification Service {}\n",
      "Amazon Simple Queue Service {}\n",
      "Amazon Simple Storage Service {}\n",
      "Amazon Virtual Private Cloud {}\n",
      "AmazonCloudWatch {}\n"
     ]
    }
   ],
   "source": [
    "for service in response['DimensionValues']:\n",
    "    print(service['Value'], service['Attributes'])"
   ]
  },
  {
   "cell_type": "code",
   "execution_count": null,
   "metadata": {},
   "outputs": [],
   "source": []
  }
 ],
 "metadata": {
  "kernelspec": {
   "display_name": "Python 3",
   "language": "python",
   "name": "python3"
  },
  "language_info": {
   "codemirror_mode": {
    "name": "ipython",
    "version": 3
   },
   "file_extension": ".py",
   "mimetype": "text/x-python",
   "name": "python",
   "nbconvert_exporter": "python",
   "pygments_lexer": "ipython3",
   "version": "3.11.5"
  },
  "orig_nbformat": 4
 },
 "nbformat": 4,
 "nbformat_minor": 2
}
