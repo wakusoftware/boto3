{
 "cells": [
  {
   "cell_type": "code",
   "execution_count": 1,
   "metadata": {},
   "outputs": [
    {
     "name": "stdout",
     "output_type": "stream",
     "text": [
      "\u001b[33mDEPRECATION: Loading egg at /Library/Frameworks/Python.framework/Versions/3.11/lib/python3.11/site-packages/scheduler_cli-1.4.0-py3.11.egg is deprecated. pip 23.3 will enforce this behaviour change. A possible replacement is to use pip for package installation..\u001b[0m\u001b[33m\n",
      "\u001b[0mRequirement already satisfied: boto3 in /Library/Frameworks/Python.framework/Versions/3.11/lib/python3.11/site-packages (1.28.54)\n",
      "Requirement already satisfied: botocore<1.32.0,>=1.31.54 in /Library/Frameworks/Python.framework/Versions/3.11/lib/python3.11/site-packages (from boto3) (1.31.54)\n",
      "Requirement already satisfied: jmespath<2.0.0,>=0.7.1 in /Library/Frameworks/Python.framework/Versions/3.11/lib/python3.11/site-packages (from boto3) (1.0.1)\n",
      "Requirement already satisfied: s3transfer<0.7.0,>=0.6.0 in /Library/Frameworks/Python.framework/Versions/3.11/lib/python3.11/site-packages (from boto3) (0.6.2)\n",
      "Requirement already satisfied: python-dateutil<3.0.0,>=2.1 in /Library/Frameworks/Python.framework/Versions/3.11/lib/python3.11/site-packages (from botocore<1.32.0,>=1.31.54->boto3) (2.8.2)\n",
      "Requirement already satisfied: urllib3<1.27,>=1.25.4 in /Library/Frameworks/Python.framework/Versions/3.11/lib/python3.11/site-packages (from botocore<1.32.0,>=1.31.54->boto3) (1.26.12)\n",
      "Requirement already satisfied: six>=1.5 in /Library/Frameworks/Python.framework/Versions/3.11/lib/python3.11/site-packages (from python-dateutil<3.0.0,>=2.1->botocore<1.32.0,>=1.31.54->boto3) (1.16.0)\n",
      "Note: you may need to restart the kernel to use updated packages.\n"
     ]
    }
   ],
   "source": [
    "%pip install boto3"
   ]
  },
  {
   "cell_type": "code",
   "execution_count": 2,
   "metadata": {},
   "outputs": [],
   "source": [
    "import boto3\n",
    "s3 = boto3.resource('s3')"
   ]
  },
  {
   "cell_type": "code",
   "execution_count": 3,
   "metadata": {},
   "outputs": [
    {
     "name": "stdout",
     "output_type": "stream",
     "text": [
      "amazon-connect-b12135672d6f\n",
      "amplify-amplify87867eb2e0224-staging-130523-deployment\n",
      "amplify-amplifye17dc33f6c584-staging-10255-deployment\n",
      "amplify-authcra-devx-194354-deployment\n",
      "amplify-nevulaclient-dev-95944-deployment\n",
      "appstream-app-settings-us-east-1-975022442119-dtvnkjsy\n",
      "appstream2-36fb080bb8-us-east-1-975022442119\n",
      "arbolapipipelinestack-arbolapipipelineartifactsbu-184ukp8botl1n\n",
      "arbolapipipelinestack-arbolapipipelineartifactsbu-9q63vv4ut3l2\n",
      "arbolapipipelinestack-arbolapipipelineartifactsbu-ek6g8beq7z9t\n",
      "aws-cloudtrail-logs-975022442119-bedf199e\n",
      "aws-codebuild-postman-test-456\n",
      "aws-codestar-us-east-1-975022442119\n",
      "aws-codestar-us-east-1-975022442119-nevula-cognito--app\n",
      "aws-codestar-us-east-1-975022442119-nevula-cognito--pipe\n",
      "aws-sam-cli-managed-default-samclisourcebucket-1v3anauekucee\n",
      "bankautomationpipelinest-bankautomationpipelinear-1bfzkvc2xuaxs\n",
      "bankautomationpipelinest-bankautomationpipelinear-tjzozgi8z7kj\n",
      "cdk-hnb659fds-assets-975022442119-us-east-1\n",
      "cdktoolkit-stagingbucket-1l759abyb8l09\n",
      "cero-bucket-prod-docs\n",
      "cero-test-bucket\n",
      "ceropipelinestack-ceropipelineartifactsbuckete596-6v503ikk4b2p\n",
      "cf-templates-5vznhhrqy7na-us-east-1\n",
      "cf-templates-5vznhhrqy7na-us-east-2\n",
      "chatbotpipelinestack-chatbotpipelineartifactsbuck-1akkrwj6lsutn\n",
      "codebuild-output-wakurepos\n",
      "codepipeline-us-east-1-326298536964\n",
      "config-bucket-975022442119\n",
      "elasticbeanstalk-us-east-1-975022442119\n",
      "firstcdkthaymerstack-somebucketthaymer0b7d1e9e-gq14xet96geo\n",
      "misc-wakusoftware\n",
      "mision-arbol-docs\n",
      "mision-arbol-imgs\n",
      "mision-arbol-plants\n",
      "nevula-app-web0a452403baa7\n",
      "nevula-app-web0e44449cc4eb\n",
      "nevula-docs-bucket-prod-0a448387dfb3\n",
      "nevula-docs-bucket-test-12db7f23c30b\n",
      "nevula-emprendedor\n",
      "nevula-images-bucket-prod-0a448387dfb3\n",
      "nevula-images-bucket-test-12db7f23c30b\n",
      "nevula-infra-build\n",
      "nevula-io-ses\n",
      "nevula-main-layers\n",
      "nevula-postman-tests\n",
      "nevula-production\n",
      "nevula-staging\n",
      "nevula-static-images\n",
      "nevula-test\n",
      "nevulapipelinestackv2-nevulapipeline2pipelinearti-j7atxjjmkj6y\n",
      "nevulapipelinestackv3-nevulapipelinev3pipelineart-hx0rn3zr98bg\n",
      "nevulapipelinestackv3-nevulapipelinev3pipelineart-kbisevss7m97\n",
      "nevulapipelinestackv3-nevulapipelinev3pipelineart-y3aswqiztbq\n",
      "nevulapipelinev2stack-nevulapipeline2pipelinearti-14zmus65rld3k\n",
      "petstore-api-pipeline-codepipeline-artifact-bucket-975022442119\n",
      "powertunerwebsitestack-websitedeploywebsitebucket-14zxtciq7kitg\n",
      "sagemaker-studio-wn0mrytwgi\n",
      "sagemaker-us-east-1-975022442119\n",
      "sagemaker-waku-ml-testing-2\n",
      "sam-bootstrap-bucket-d0a60f24-289a-4b1a-90d0-e11ee420607b\n",
      "sam-bootstrap-bucket-d2837b02-b07d-49d9-bdff-5ac7758ed88d\n",
      "sat-anzoategui\n",
      "sat-falcon\n",
      "serverless-saas-pipeline-artifactsbucket2aac5544-3pc9vtb9mria\n",
      "serverless-saas-userinterface-1e-landingappbucket-1lan8dbhcm038\n",
      "serverless-saas-userinterface-1eml-adminappbucket-wwxmiq7fiep9\n",
      "serverless-saas-userinterface-1emlzeg6w-appbucket-59tpc99tevmu\n",
      "serverless-saas-workshop-lab1-appbucket-1cfxn3qo3gme3\n",
      "sut-anzoategui\n",
      "sut-anzoategui-develop\n",
      "sut-independencia\n",
      "sut-maracaibo\n",
      "sut-maracaibo-develop\n",
      "sut-media\n",
      "sut-palavecino\n",
      "sut-sc\n",
      "sut-sf\n",
      "sut-sf-develop\n",
      "sut2pipelinestack-sut2pipelineartifactsbucketba35-e6knx3qwmc1c\n",
      "sut2pipelinestack-sut2pipelineartifactsbucketba35-titsswh9x3ts\n",
      "waku-bucket-banks-automation\n"
     ]
    }
   ],
   "source": [
    "for bucket in s3.buckets.all():\n",
    "    print(bucket.name)"
   ]
  },
  {
   "cell_type": "code",
   "execution_count": null,
   "metadata": {},
   "outputs": [],
   "source": []
  }
 ],
 "metadata": {
  "kernelspec": {
   "display_name": "Python 3",
   "language": "python",
   "name": "python3"
  },
  "language_info": {
   "codemirror_mode": {
    "name": "ipython",
    "version": 3
   },
   "file_extension": ".py",
   "mimetype": "text/x-python",
   "name": "python",
   "nbconvert_exporter": "python",
   "pygments_lexer": "ipython3",
   "version": "3.11.5"
  },
  "orig_nbformat": 4
 },
 "nbformat": 4,
 "nbformat_minor": 2
}
