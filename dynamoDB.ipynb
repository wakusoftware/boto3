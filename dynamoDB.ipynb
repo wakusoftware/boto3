{
 "cells": [
  {
   "cell_type": "markdown",
   "metadata": {},
   "source": [
    "# DynamoDB"
   ]
  },
  {
   "cell_type": "code",
   "execution_count": 4,
   "metadata": {},
   "outputs": [],
   "source": [
    "import boto3"
   ]
  },
  {
   "cell_type": "code",
   "execution_count": 5,
   "metadata": {},
   "outputs": [],
   "source": [
    "client = boto3.client('dynamodb', region_name='us-east-1')"
   ]
  },
  {
   "cell_type": "code",
   "execution_count": 6,
   "metadata": {},
   "outputs": [],
   "source": [
    "table_name = 'Movies'\n",
    "\n",
    "attributes = [\n",
    "    {\n",
    "        'AttributeName': 'Title',\n",
    "        'AttributeType': 'S'\n",
    "    },\n",
    "    {\n",
    "        'AttributeName': 'Rating',\n",
    "        'AttributeType': 'N'\n",
    "    },\n",
    "]\n",
    "\n",
    "provisioned_throughput = {\n",
    "    'ReadCapacityUnits': 5,\n",
    "    'WriteCapacityUnits': 5\n",
    "}\n",
    "\n",
    "key_schema = [\n",
    "    {\n",
    "        'AttributeName': 'Title',\n",
    "        'KeyType': 'HASH'\n",
    "    },\n",
    "    {\n",
    "        'AttributeName': 'Rating',\n",
    "        'KeyType': 'RANGE'\n",
    "    }\n",
    "]\n"
   ]
  },
  {
   "cell_type": "code",
   "execution_count": 7,
   "metadata": {},
   "outputs": [],
   "source": [
    "response = client.create_table(\n",
    "    AttributeDefinitions=attributes,\n",
    "    TableName=table_name,\n",
    "    KeySchema=key_schema,\n",
    "    ProvisionedThroughput=provisioned_throughput\n",
    ")"
   ]
  },
  {
   "cell_type": "code",
   "execution_count": 8,
   "metadata": {},
   "outputs": [
    {
     "data": {
      "text/plain": [
       "{'TableDescription': {'AttributeDefinitions': [{'AttributeName': 'Rating',\n",
       "    'AttributeType': 'N'},\n",
       "   {'AttributeName': 'Title', 'AttributeType': 'S'}],\n",
       "  'TableName': 'Movies',\n",
       "  'KeySchema': [{'AttributeName': 'Title', 'KeyType': 'HASH'},\n",
       "   {'AttributeName': 'Rating', 'KeyType': 'RANGE'}],\n",
       "  'TableStatus': 'CREATING',\n",
       "  'CreationDateTime': datetime.datetime(2023, 9, 27, 17, 12, 1, 955000, tzinfo=tzlocal()),\n",
       "  'ProvisionedThroughput': {'NumberOfDecreasesToday': 0,\n",
       "   'ReadCapacityUnits': 5,\n",
       "   'WriteCapacityUnits': 5},\n",
       "  'TableSizeBytes': 0,\n",
       "  'ItemCount': 0,\n",
       "  'TableArn': 'arn:aws:dynamodb:us-east-1:975022442119:table/Movies',\n",
       "  'TableId': '29a3a0e6-1c50-43db-91a7-7d438b5502ce',\n",
       "  'DeletionProtectionEnabled': False},\n",
       " 'ResponseMetadata': {'RequestId': 'TLRIQS0CEI4A1FONQ23N75LJRBVV4KQNSO5AEMVJF66Q9ASUAAJG',\n",
       "  'HTTPStatusCode': 200,\n",
       "  'HTTPHeaders': {'server': 'Server',\n",
       "   'date': 'Wed, 27 Sep 2023 21:12:01 GMT',\n",
       "   'content-type': 'application/x-amz-json-1.0',\n",
       "   'content-length': '604',\n",
       "   'connection': 'keep-alive',\n",
       "   'x-amzn-requestid': 'TLRIQS0CEI4A1FONQ23N75LJRBVV4KQNSO5AEMVJF66Q9ASUAAJG',\n",
       "   'x-amz-crc32': '2971811750'},\n",
       "  'RetryAttempts': 0}}"
      ]
     },
     "execution_count": 8,
     "metadata": {},
     "output_type": "execute_result"
    }
   ],
   "source": [
    "response"
   ]
  },
  {
   "cell_type": "code",
   "execution_count": 9,
   "metadata": {},
   "outputs": [],
   "source": [
    "entry = {\n",
    "    'Title': {'S': 'The Big New Movie'},\n",
    "    'Director': {'S': 'Somebody Famous'},\n",
    "    'Year': {'N': '2015'},\n",
    "    'Rating': {'N': '4.5'},\n",
    "}"
   ]
  },
  {
   "cell_type": "code",
   "execution_count": 10,
   "metadata": {},
   "outputs": [
    {
     "data": {
      "text/plain": [
       "{'ResponseMetadata': {'RequestId': 'AS19LDD12RL72VHNHLV3TPUL0BVV4KQNSO5AEMVJF66Q9ASUAAJG',\n",
       "  'HTTPStatusCode': 200,\n",
       "  'HTTPHeaders': {'server': 'Server',\n",
       "   'date': 'Wed, 27 Sep 2023 21:22:57 GMT',\n",
       "   'content-type': 'application/x-amz-json-1.0',\n",
       "   'content-length': '2',\n",
       "   'connection': 'keep-alive',\n",
       "   'x-amzn-requestid': 'AS19LDD12RL72VHNHLV3TPUL0BVV4KQNSO5AEMVJF66Q9ASUAAJG',\n",
       "   'x-amz-crc32': '2745614147'},\n",
       "  'RetryAttempts': 0}}"
      ]
     },
     "execution_count": 10,
     "metadata": {},
     "output_type": "execute_result"
    }
   ],
   "source": [
    "client.put_item(\n",
    "    TableName=table_name,\n",
    "    Item=entry\n",
    ")"
   ]
  },
  {
   "cell_type": "code",
   "execution_count": 11,
   "metadata": {},
   "outputs": [],
   "source": [
    "item_key = {\n",
    "    'Title': {'S': 'The Big New Movie'},\n",
    "    'Rating': {'N': '4.5'},\n",
    "}   \n",
    "\n",
    "response = client.get_item(\n",
    "    TableName=table_name,\n",
    "    Key=item_key\n",
    ")"
   ]
  },
  {
   "cell_type": "code",
   "execution_count": 12,
   "metadata": {},
   "outputs": [
    {
     "data": {
      "text/plain": [
       "{'Item': {'Title': {'S': 'The Big New Movie'},\n",
       "  'Director': {'S': 'Somebody Famous'},\n",
       "  'Year': {'N': '2015'},\n",
       "  'Rating': {'N': '4.5'}},\n",
       " 'ResponseMetadata': {'RequestId': '4H17SFDBIR48EPSF3AKTPI5E8JVV4KQNSO5AEMVJF66Q9ASUAAJG',\n",
       "  'HTTPStatusCode': 200,\n",
       "  'HTTPHeaders': {'server': 'Server',\n",
       "   'date': 'Wed, 27 Sep 2023 21:24:05 GMT',\n",
       "   'content-type': 'application/x-amz-json-1.0',\n",
       "   'content-length': '120',\n",
       "   'connection': 'keep-alive',\n",
       "   'x-amzn-requestid': '4H17SFDBIR48EPSF3AKTPI5E8JVV4KQNSO5AEMVJF66Q9ASUAAJG',\n",
       "   'x-amz-crc32': '2284923051'},\n",
       "  'RetryAttempts': 0}}"
      ]
     },
     "execution_count": 12,
     "metadata": {},
     "output_type": "execute_result"
    }
   ],
   "source": [
    "response"
   ]
  },
  {
   "cell_type": "code",
   "execution_count": 14,
   "metadata": {},
   "outputs": [
    {
     "data": {
      "text/plain": [
       "{'ResponseMetadata': {'RequestId': 'GUI9MNQOUHT2QF899NCDP79S9BVV4KQNSO5AEMVJF66Q9ASUAAJG',\n",
       "  'HTTPStatusCode': 200,\n",
       "  'HTTPHeaders': {'server': 'Server',\n",
       "   'date': 'Wed, 27 Sep 2023 21:28:25 GMT',\n",
       "   'content-type': 'application/x-amz-json-1.0',\n",
       "   'content-length': '2',\n",
       "   'connection': 'keep-alive',\n",
       "   'x-amzn-requestid': 'GUI9MNQOUHT2QF899NCDP79S9BVV4KQNSO5AEMVJF66Q9ASUAAJG',\n",
       "   'x-amz-crc32': '2745614147'},\n",
       "  'RetryAttempts': 0}}"
      ]
     },
     "execution_count": 14,
     "metadata": {},
     "output_type": "execute_result"
    }
   ],
   "source": [
    "update = 'SET Director = :director'\n",
    "client.update_item(\n",
    "    TableName=table_name,\n",
    "    Key=item_key,\n",
    "    UpdateExpression=update,\n",
    "    ExpressionAttributeValues={\n",
    "        ':director': {'S': 'New Director'}\n",
    "    }\n",
    ")"
   ]
  },
  {
   "cell_type": "code",
   "execution_count": 1,
   "metadata": {},
   "outputs": [],
   "source": [
    "#batch request\n",
    "\n",
    "movies = [\n",
    "    {\n",
    "        'Title': {'S': 'The Big New Movie S'},\n",
    "        'Rating': {'N': '0.0'}\n",
    "    },\n",
    "    {\n",
    "        'Title': {'S': 'The Big New Movie D'},\n",
    "        'Rating': {'N': '0.0'}\n",
    "    },\n",
    "    {\n",
    "        'Title': {'S': 'The Big New Movie C'},\n",
    "        'Rating': {'N': '0.0'}\n",
    "    },\n",
    "    {\n",
    "        'Title': {'S': 'The Big New Movie E'},\n",
    "        'Rating': {'N': '0.0'}\n",
    "    },\n",
    "]\n",
    "\n",
    "batch_request = []\n",
    "\n",
    "for movie in movies:\n",
    "    batch_request.append({\n",
    "        'PutRequest': {\n",
    "            'Item': movie\n",
    "        }\n",
    "    })"
   ]
  },
  {
   "cell_type": "code",
   "execution_count": 2,
   "metadata": {},
   "outputs": [
    {
     "data": {
      "text/plain": [
       "[{'PutRequest': {'Item': {'Title': {'S': 'The Big New Movie S'},\n",
       "    'Rating': {'N': '0.0'}}}},\n",
       " {'PutRequest': {'Item': {'Title': {'S': 'The Big New Movie D'},\n",
       "    'Rating': {'N': '0.0'}}}},\n",
       " {'PutRequest': {'Item': {'Title': {'S': 'The Big New Movie C'},\n",
       "    'Rating': {'N': '0.0'}}}},\n",
       " {'PutRequest': {'Item': {'Title': {'S': 'The Big New Movie E'},\n",
       "    'Rating': {'N': '0.0'}}}}]"
      ]
     },
     "execution_count": 2,
     "metadata": {},
     "output_type": "execute_result"
    }
   ],
   "source": [
    "batch_request"
   ]
  },
  {
   "cell_type": "code",
   "execution_count": 6,
   "metadata": {},
   "outputs": [],
   "source": [
    "response = client.batch_write_item(RequestItems={'Movies': batch_request})"
   ]
  },
  {
   "cell_type": "code",
   "execution_count": 7,
   "metadata": {},
   "outputs": [
    {
     "data": {
      "text/plain": [
       "{'UnprocessedItems': {},\n",
       " 'ResponseMetadata': {'RequestId': 'O8CIU1EAPOBS9IQCMC8UNB2OFRVV4KQNSO5AEMVJF66Q9ASUAAJG',\n",
       "  'HTTPStatusCode': 200,\n",
       "  'HTTPHeaders': {'server': 'Server',\n",
       "   'date': 'Thu, 28 Sep 2023 18:33:00 GMT',\n",
       "   'content-type': 'application/x-amz-json-1.0',\n",
       "   'content-length': '23',\n",
       "   'connection': 'keep-alive',\n",
       "   'x-amzn-requestid': 'O8CIU1EAPOBS9IQCMC8UNB2OFRVV4KQNSO5AEMVJF66Q9ASUAAJG',\n",
       "   'x-amz-crc32': '4185382651'},\n",
       "  'RetryAttempts': 0}}"
      ]
     },
     "execution_count": 7,
     "metadata": {},
     "output_type": "execute_result"
    }
   ],
   "source": [
    "response"
   ]
  },
  {
   "cell_type": "markdown",
   "metadata": {},
   "source": [
    "### Scan"
   ]
  },
  {
   "cell_type": "code",
   "execution_count": 8,
   "metadata": {},
   "outputs": [],
   "source": [
    "dynamodb = boto3.resource('dynamodb', region_name='us-east-1')\n",
    "table = dynamodb.Table('Movies')"
   ]
  },
  {
   "cell_type": "code",
   "execution_count": 9,
   "metadata": {},
   "outputs": [
    {
     "data": {
      "text/plain": [
       "{'Items': [{'Title': 'The Big New Movie',\n",
       "   'Director': 'New Director',\n",
       "   'Year': Decimal('2015'),\n",
       "   'Rating': Decimal('4.5')}],\n",
       " 'Count': 1,\n",
       " 'ScannedCount': 5,\n",
       " 'ResponseMetadata': {'RequestId': '2MGJUKSB918M3L5F7C40DBBH0NVV4KQNSO5AEMVJF66Q9ASUAAJG',\n",
       "  'HTTPStatusCode': 200,\n",
       "  'HTTPHeaders': {'server': 'Server',\n",
       "   'date': 'Thu, 28 Sep 2023 19:36:11 GMT',\n",
       "   'content-type': 'application/x-amz-json-1.0',\n",
       "   'content-length': '147',\n",
       "   'connection': 'keep-alive',\n",
       "   'x-amzn-requestid': '2MGJUKSB918M3L5F7C40DBBH0NVV4KQNSO5AEMVJF66Q9ASUAAJG',\n",
       "   'x-amz-crc32': '3202018363'},\n",
       "  'RetryAttempts': 0}}"
      ]
     },
     "execution_count": 9,
     "metadata": {},
     "output_type": "execute_result"
    }
   ],
   "source": [
    "from boto3.dynamodb.conditions import Key, Attr\n",
    "table.scan(\n",
    "    FilterExpression=Attr('Rating').gt(4)\n",
    ")"
   ]
  },
  {
   "cell_type": "code",
   "execution_count": null,
   "metadata": {},
   "outputs": [],
   "source": []
  }
 ],
 "metadata": {
  "kernelspec": {
   "display_name": "Python 3",
   "language": "python",
   "name": "python3"
  },
  "language_info": {
   "codemirror_mode": {
    "name": "ipython",
    "version": 3
   },
   "file_extension": ".py",
   "mimetype": "text/x-python",
   "name": "python",
   "nbconvert_exporter": "python",
   "pygments_lexer": "ipython3",
   "version": "3.11.5"
  },
  "orig_nbformat": 4
 },
 "nbformat": 4,
 "nbformat_minor": 2
}
